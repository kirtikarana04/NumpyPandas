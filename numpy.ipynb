{
 "cells": [
  {
   "cell_type": "code",
   "execution_count": 1,
   "id": "dd2c86e6-f0b4-40cb-9a81-71bace915ff8",
   "metadata": {},
   "outputs": [
    {
     "name": "stdout",
     "output_type": "stream",
     "text": [
      "1.26.4\n",
      "[76 32 78 46 37 85 67 43 65 74 39] 11 int32 1\n"
     ]
    }
   ],
   "source": [
    "import numpy as np\n",
    "print(np.__version__)\n",
    "\n",
    "marks=np.array([76,32,78,46,37,85,67,43,65,74,39])   #1-d Array\n",
    "print(marks,marks.size,marks.dtype,marks.ndim)"
   ]
  },
  {
   "cell_type": "code",
   "execution_count": 3,
   "id": "086ab986-435d-4ffa-9b39-a4afa331e2b8",
   "metadata": {},
   "outputs": [
    {
     "name": "stdout",
     "output_type": "stream",
     "text": [
      "[-38767576     32764         0       486      1180         0       768\n",
      "     32765         0         0]\n"
     ]
    },
    {
     "name": "stdin",
     "output_type": "stream",
     "text": [
      "Enter a number: 45\n",
      "Enter a number: 54\n",
      "Enter a number: 65\n",
      "Enter a number: 76\n",
      "Enter a number: 87\n",
      "Enter a number: 8\n",
      "Enter a number: 08\n",
      "Enter a number: 12\n",
      "Enter a number: 2\n",
      "Enter a number: 34\n"
     ]
    },
    {
     "name": "stdout",
     "output_type": "stream",
     "text": [
      "[45 54 65 76 87  8  8 12  2 34]\n"
     ]
    }
   ],
   "source": [
    "import numpy as np\n",
    "num=np.empty(10,dtype=int)\n",
    "print(num)\n",
    "\n",
    "for i in range(0,10):\n",
    "    n=int(input(\"Enter a number:\"))\n",
    "    num[i]=n\n",
    "print(num)"
   ]
  },
  {
   "cell_type": "code",
   "execution_count": 5,
   "id": "065c6b72-43de-4e2d-b5cf-34cff4c1e164",
   "metadata": {},
   "outputs": [
    {
     "name": "stdout",
     "output_type": "stream",
     "text": [
      "[  5   6   8   9   2   3   5   8   9   3   5   6   7   1  22  11  88 144] 18 int32\n",
      "first element is 5, and last element is 144\n",
      "[ 5  8  2  5  9  5  7 22 88]\n",
      "5\n",
      "8\n",
      "2\n",
      "5\n",
      "9\n",
      "5\n",
      "7\n",
      "22\n",
      "88\n"
     ]
    }
   ],
   "source": [
    "import numpy as np \n",
    "arr1=np.array([5,6,8,9,2,3,5,8,9,3,5,6,7,1,22,11,88,144],dtype=int)\n",
    "print(arr1,arr1.size,arr1.dtype)\n",
    "\n",
    "print(f\"first element is {arr1[0]}, and last element is {arr1[arr1.size-1]}\")\n",
    "\n",
    "print(arr1[0:len(arr1)-1:2])\n",
    "\n",
    "for i in range(0,len(arr1),2):\n",
    "    print(arr1[i])"
   ]
  },
  {
   "cell_type": "code",
   "execution_count": 6,
   "id": "c5f58231-df93-4d91-a32c-f414c18855e7",
   "metadata": {},
   "outputs": [
    {
     "name": "stdout",
     "output_type": "stream",
     "text": [
      "[1 2 3 4 5]\n"
     ]
    }
   ],
   "source": [
    "import numpy as np\n",
    "x=np.array([1,2,3,4,5])\n",
    "print(x)"
   ]
  },
  {
   "cell_type": "code",
   "execution_count": 7,
   "id": "534d86ec-b718-4bad-8078-a921d87d2cbe",
   "metadata": {},
   "outputs": [
    {
     "name": "stdout",
     "output_type": "stream",
     "text": [
      "0      Male\n",
      "1      Male\n",
      "2    Female\n",
      "3      Male\n",
      "4      Male\n",
      "5    Female\n",
      "dtype: object\n",
      "0    12\n",
      "1    44\n",
      "2    23\n",
      "3    55\n",
      "4    67\n",
      "5    22\n",
      "6    34\n",
      "7    55\n",
      "8    66\n",
      "dtype: int64\n"
     ]
    }
   ],
   "source": [
    "import pandas as pd\n",
    "sex=pd.Series(['Male','Male','Female','Male','Male','Female'])\n",
    "ages=pd.Series([12,44,23,55,67,22,34,55,66])\n",
    "print(sex)\n",
    "print(ages)"
   ]
  },
  {
   "cell_type": "code",
   "execution_count": 14,
   "id": "f1c8a8a5-0820-4c43-b920-e8737d31bea7",
   "metadata": {},
   "outputs": [
    {
     "name": "stdout",
     "output_type": "stream",
     "text": [
      "['Male' 'Male' 'Female' 'Male' 'Male' 'Female']\n",
      "[12 44 23 55 67 22 34 55 66]\n"
     ]
    }
   ],
   "source": [
    "gender=np.array(sex)\n",
    "age=np.array(ages)\n",
    "print(gender)\n",
    "print(age)"
   ]
  },
  {
   "cell_type": "code",
   "execution_count": 18,
   "id": "5c1b8a9a-8fe5-40d0-b898-3c6046b91ca9",
   "metadata": {},
   "outputs": [
    {
     "name": "stdout",
     "output_type": "stream",
     "text": [
      "[  1   1   1   2   2   2   3   3   4   4   4   5   5   6   6   6   7   7\n",
      "   8   8   8   9   9  10  10  10  11  11  12  12  12  13  13  14  14  14\n",
      "  15  15  16  16  16  17  17  18  18  18  19  19  20  20  20  21  21  22\n",
      "  22  22  23  23  24  24  24  25  25  26  26  26  27  27  28  28  28  29\n",
      "  29  30  30  30  31  31  32  32  32  33  33  34  34  34  35  35  35  36\n",
      "  36  37  37  37  38  38  39  39  39  40  40  41  41  41  42  42  43  43\n",
      "  43  44  44  45  45  45  46  46  47  47  47  48  48  49  49  49  50  50\n",
      "  51  51  51  52  52  53  53  53  54  54  55  55  55  56  56  57  57  57\n",
      "  58  58  59  59  59  60  60  61  61  61  62  62  63  63  63  64  64  65\n",
      "  65  65  66  66  67  67  67  68  68  68  69  69  70  70  70  71  71  72\n",
      "  72  72  73  73  74  74  74  75  75  76  76  76  77  77  78  78  78  79\n",
      "  79  80  80  80  81  81  82  82  82  83  83  84  84  84  85  85  86  86\n",
      "  86  87  87  88  88  88  89  89  90  90  90  91  91  92  92  92  93  93\n",
      "  94  94  94  95  95  96  96  96  97  97  98  98  98  99  99 100]\n"
     ]
    }
   ],
   "source": [
    "y=np.linspace(1,100,250,dtype=int)\n",
    "print(y)"
   ]
  },
  {
   "cell_type": "code",
   "execution_count": 17,
   "id": "394795d1-0831-4468-8631-6aa142b65430",
   "metadata": {},
   "outputs": [
    {
     "name": "stdout",
     "output_type": "stream",
     "text": [
      "[ 10.          11.83673469  13.67346939  15.51020408  17.34693878\n",
      "  19.18367347  21.02040816  22.85714286  24.69387755  26.53061224\n",
      "  28.36734694  30.20408163  32.04081633  33.87755102  35.71428571\n",
      "  37.55102041  39.3877551   41.2244898   43.06122449  44.89795918\n",
      "  46.73469388  48.57142857  50.40816327  52.24489796  54.08163265\n",
      "  55.91836735  57.75510204  59.59183673  61.42857143  63.26530612\n",
      "  65.10204082  66.93877551  68.7755102   70.6122449   72.44897959\n",
      "  74.28571429  76.12244898  77.95918367  79.79591837  81.63265306\n",
      "  83.46938776  85.30612245  87.14285714  88.97959184  90.81632653\n",
      "  92.65306122  94.48979592  96.32653061  98.16326531 100.        ]\n"
     ]
    }
   ],
   "source": [
    "y1=np.linspace(10,100,50,dtype=float)\n",
    "print(y1)"
   ]
  },
  {
   "cell_type": "raw",
   "id": "a6b80b37-2d8d-4636-b744-29533a684137",
   "metadata": {},
   "source": []
  },
  {
   "cell_type": "code",
   "execution_count": 21,
   "id": "a7b33421-5e7e-4240-88fa-fcc029d9ce0b",
   "metadata": {},
   "outputs": [
    {
     "name": "stdout",
     "output_type": "stream",
     "text": [
      "sum is 12502\n",
      "mean of y50.008\n",
      "50.0\n",
      "100\n",
      "1\n",
      "1\n"
     ]
    }
   ],
   "source": [
    "import statistics as st\n",
    "import numpy as np\n",
    "s=np.sum(y)\n",
    "print(f\"sum is {s}\")\n",
    "m=np.mean(y)\n",
    "print(f\"mean of y{m}\")\n",
    "md=np.median(y)\n",
    "print(md)\n",
    "\n",
    "m=np.max(y)\n",
    "print(m)\n",
    "x=st.mode(y)\n",
    "print(x)\n",
    "\n",
    "print(np.min(y))"
   ]
  },
  {
   "cell_type": "code",
   "execution_count": 22,
   "id": "d3887135-cdbb-446f-9f71-4de58897aa07",
   "metadata": {},
   "outputs": [
    {
     "name": "stdout",
     "output_type": "stream",
     "text": [
      "[ 5  7  9 11 13 15 17 19 21 23 25 27 29 31 33 35 37 39 41 43 45 47 49 51\n",
      " 53 55 57 59 61 63 65 67 69 71 73 75 77 79 81 83 85 87 89 91 93 95 97 99]\n",
      "48\n"
     ]
    }
   ],
   "source": [
    "#3.Arange\n",
    "#Return evenly spaced integer values over a given interval with some step size.\n",
    "a1=np.arange(5,100,2,dtype=int)\n",
    "print(a1)\n",
    "print(len(a1))"
   ]
  },
  {
   "cell_type": "code",
   "execution_count": 25,
   "id": "53b23daf-8fdf-4ba1-8bdc-d60c06a233f9",
   "metadata": {},
   "outputs": [
    {
     "name": "stdout",
     "output_type": "stream",
     "text": [
      "36912151821242730333639424548"
     ]
    }
   ],
   "source": [
    "#customized function\n",
    "def Gen_num(start,end,step):\n",
    "    for x in range(start,end,step):\n",
    "        print(x,end='')\n",
    "\n",
    "Gen_num(3,50,3)"
   ]
  },
  {
   "cell_type": "code",
   "execution_count": 26,
   "id": "b949869a-e1d6-492b-8008-bb5ce255d5d2",
   "metadata": {},
   "outputs": [
    {
     "name": "stdout",
     "output_type": "stream",
     "text": [
      "[6.43834545 9.04908015 8.48133161 8.55421799 8.49342028 6.46828582\n",
      " 8.62386717 5.09004307 7.18193926 9.56657544 6.3026919  7.39604493\n",
      " 5.2144066  5.51566419 8.79344098 8.02073421 9.86072698 6.03045509\n",
      " 7.30955898 8.73566722 8.2942858  9.78608918 7.53325982 7.80464808\n",
      " 5.076224   9.98541295 5.53973604 7.14856918 9.22002257 7.0135178\n",
      " 7.289883   6.85741225 8.99632947 6.15097263 9.46932957 5.49971728\n",
      " 8.79638064 6.0168185  9.98772622 7.19684486 7.08649839 6.65995397\n",
      " 8.71246827 8.30377229 8.02596841 9.48545824 6.33126252 5.21524776\n",
      " 9.01069128 6.43692475 5.66505745 7.05709406 7.09238981 5.29591343\n",
      " 7.23109076 5.89689683 7.12556467 5.68321873 6.69462493 5.86503952\n",
      " 5.05250396 5.25648902 9.10347147 7.05058046 6.48861978 6.85970612\n",
      " 7.62032189 7.92675601 6.49008229 7.24279525 8.67561287 5.46665643\n",
      " 8.44293136 7.17094607 7.79267039 9.86691818 5.59292819 6.37848561\n",
      " 6.23261214 6.11607732 5.29203826 7.14409554 9.06306484 8.86787883\n",
      " 9.12009608 7.95139393 9.60972868 7.56949909 9.26445037 7.66130405\n",
      " 6.75004156 6.82520343 9.86885005 7.36447597 6.58111437 8.8608094\n",
      " 5.91005068 7.40097499 8.98712861 5.4491433 ]\n",
      "9.987726223822445\n",
      "100\n",
      "5.052503962040667\n"
     ]
    }
   ],
   "source": [
    "#4. Uniform Samples\n",
    "#Generate a random sample from a uniform distribution between lower and hogher limit values.\n",
    "a2=np.random.uniform(5,10,size=100)\n",
    "print(a2)\n",
    "\n",
    "maxval=np.max(a2)\n",
    "print(maxval)\n",
    "print(a2.size)\n",
    "print(np.min(a2))"
   ]
  },
  {
   "cell_type": "code",
   "execution_count": 27,
   "id": "0a238569-be57-412d-a20a-00c02ec96f87",
   "metadata": {},
   "outputs": [
    {
     "name": "stdout",
     "output_type": "stream",
     "text": [
      "[0.47970018 0.24721263 0.30237146 0.17239266 0.97755729 0.61430294\n",
      " 0.19088988 0.9294852  0.72762074 0.32874975 0.59954688 0.31419063\n",
      " 0.26548737 0.90059503 0.72275643 0.33038924 0.15164466 0.59307205\n",
      " 0.93893879 0.08495443 0.24578408 0.60863667 0.62033688 0.19768249\n",
      " 0.9077176  0.23814978 0.14644918 0.729129   0.26019851 0.07921541\n",
      " 0.06455309 0.27101464 0.00454095 0.34202417 0.22639016 0.65833892\n",
      " 0.35625324 0.3925485  0.03553082 0.78067176 0.07378628 0.62081345\n",
      " 0.28069334 0.15111567 0.44004815 0.8508721  0.93216117 0.30559375\n",
      " 0.14827561 0.76283594]\n"
     ]
    }
   ],
   "source": [
    "data=np.random.uniform(size=50)\n",
    "\n",
    "print(data)"
   ]
  },
  {
   "cell_type": "code",
   "execution_count": 28,
   "id": "9dee5385-43f7-4cee-a57d-01d48a3bc3a3",
   "metadata": {},
   "outputs": [
    {
     "data": {
      "text/plain": [
       "array([[0.78978528, 0.29035758, 0.87146538, 0.63412162, 0.9457363 ],\n",
       "       [0.44816533, 0.46376455, 0.72340241, 0.91805574, 0.66256342],\n",
       "       [0.29254042, 0.93618785, 0.03666148, 0.51059764, 0.87478341],\n",
       "       [0.86254409, 0.00893927, 0.4543402 , 0.67614994, 0.66767349],\n",
       "       [0.36333555, 0.8060007 , 0.68122234, 0.41609659, 0.36556179],\n",
       "       [0.14549902, 0.45568055, 0.05512281, 0.67408567, 0.50334545],\n",
       "       [0.3082903 , 0.92419638, 0.81257295, 0.92621698, 0.68843661],\n",
       "       [0.19948605, 0.97643493, 0.29933484, 0.87793868, 0.08994811],\n",
       "       [0.39295331, 0.28675733, 0.8149538 , 0.13731215, 0.47164385],\n",
       "       [0.24693277, 0.10908151, 0.11170107, 0.97543745, 0.01139111]])"
      ]
     },
     "execution_count": 28,
     "metadata": {},
     "output_type": "execute_result"
    }
   ],
   "source": [
    "np.random.uniform(size=(10,5))"
   ]
  },
  {
   "cell_type": "code",
   "execution_count": 29,
   "id": "c0f0c58d-a00d-4836-8b88-04724d661e28",
   "metadata": {},
   "outputs": [
    {
     "data": {
      "text/plain": [
       "array([7, 7, 5, 6, 5, 6, 5, 8, 5, 7, 5, 9, 7, 8, 5, 9, 6, 9, 6, 6, 8, 5,\n",
       "       6, 7, 6, 9, 8, 5, 8, 5, 5, 7, 6, 8, 6, 5, 5, 5, 5, 8, 7, 7, 6, 6,\n",
       "       6, 6, 6, 7, 8, 7, 8, 5, 6, 8, 7, 7, 6, 7, 8, 6, 6, 8, 7, 5, 5, 9,\n",
       "       6, 8, 8, 9, 5, 6, 9, 7, 5, 7, 6, 7, 5, 9, 6, 5, 6, 7, 9, 5, 9, 8,\n",
       "       5, 6, 6, 7, 8, 7, 8, 8, 6, 6, 5, 5])"
      ]
     },
     "execution_count": 29,
     "metadata": {},
     "output_type": "execute_result"
    }
   ],
   "source": [
    "#5. Random.randint\n",
    "#Generate n random integer samples within a range.\n",
    "np.random.randint(5,10,100)"
   ]
  },
  {
   "cell_type": "code",
   "execution_count": 30,
   "id": "036b86c8-33ca-46f9-a70c-05d5474d0d96",
   "metadata": {},
   "outputs": [
    {
     "data": {
      "text/plain": [
       "array([0.98777063, 0.62106894, 0.44518959, 0.14705441, 0.00627102,\n",
       "       0.24287854, 0.77100576, 0.6232784 , 0.61785016, 0.39380377,\n",
       "       0.04754304, 0.063695  , 0.5847032 , 0.77935721, 0.68555749,\n",
       "       0.67327461, 0.07446745, 0.1937398 , 0.65919002, 0.83838765,\n",
       "       0.3206187 , 0.41941153, 0.99855599, 0.5055173 , 0.11321035,\n",
       "       0.16942433, 0.65529322, 0.31596032, 0.36657974, 0.06418552])"
      ]
     },
     "execution_count": 30,
     "metadata": {},
     "output_type": "execute_result"
    }
   ],
   "source": [
    "#6. Random.random\n",
    "#Generate n random float samples.\n",
    "np.random.random(30)"
   ]
  },
  {
   "cell_type": "code",
   "execution_count": 31,
   "id": "5c241646-1fc9-480e-ae1a-0ad2627e98a1",
   "metadata": {},
   "outputs": [
    {
     "name": "stdout",
     "output_type": "stream",
     "text": [
      "3701\n"
     ]
    }
   ],
   "source": [
    "print(np.random.randint(1000,9999))"
   ]
  },
  {
   "cell_type": "code",
   "execution_count": 32,
   "id": "5c4c9920-c9c8-4f51-8bec-571dd771104d",
   "metadata": {},
   "outputs": [
    {
     "data": {
      "text/plain": [
       "array([1.00000000e+00, 3.16227766e+02, 1.00000000e+05, 3.16227766e+07,\n",
       "       1.00000000e+10])"
      ]
     },
     "execution_count": 32,
     "metadata": {},
     "output_type": "execute_result"
    }
   ],
   "source": [
    "#7. Logspace\n",
    "# Generate evenly spaced numbers on a log scale.\n",
    "np.logspace(0,10,5,base=10)"
   ]
  },
  {
   "cell_type": "code",
   "execution_count": 34,
   "id": "5d4157e3-d77c-4f69-af6b-fc88a25a5911",
   "metadata": {},
   "outputs": [
    {
     "data": {
      "text/plain": [
       "array([[0, 0, 0],\n",
       "       [0, 0, 0],\n",
       "       [0, 0, 0],\n",
       "       [0, 0, 0],\n",
       "       [0, 0, 0]])"
      ]
     },
     "execution_count": 34,
     "metadata": {},
     "output_type": "execute_result"
    }
   ],
   "source": [
    "#8. Array of zero\n",
    "#np.zeros function helps to create an array of 0\n",
    "np.zeros((5,3),dtype=int)"
   ]
  },
  {
   "cell_type": "code",
   "execution_count": 35,
   "id": "74179a12-edd6-48b3-906e-7dc7d2e815d3",
   "metadata": {},
   "outputs": [
    {
     "data": {
      "text/plain": [
       "array([0., 0., 0., 0., 0.])"
      ]
     },
     "execution_count": 35,
     "metadata": {},
     "output_type": "execute_result"
    }
   ],
   "source": [
    "np.zeros(5)"
   ]
  },
  {
   "cell_type": "code",
   "execution_count": 36,
   "id": "c41552ee-4dc7-4bf2-9372-30940dc3dd85",
   "metadata": {},
   "outputs": [
    {
     "data": {
      "text/plain": [
       "array([[1, 1, 1, 1],\n",
       "       [1, 1, 1, 1],\n",
       "       [1, 1, 1, 1],\n",
       "       [1, 1, 1, 1],\n",
       "       [1, 1, 1, 1],\n",
       "       [1, 1, 1, 1],\n",
       "       [1, 1, 1, 1],\n",
       "       [1, 1, 1, 1],\n",
       "       [1, 1, 1, 1],\n",
       "       [1, 1, 1, 1]])"
      ]
     },
     "execution_count": 36,
     "metadata": {},
     "output_type": "execute_result"
    }
   ],
   "source": [
    "#9. Array of ones\n",
    "#np.ones function helps to create an array of 1.\n",
    "np.ones((10,4),dtype=int)"
   ]
  },
  {
   "cell_type": "code",
   "execution_count": 37,
   "id": "963789c0-f79a-4bab-a03a-c9bf82331120",
   "metadata": {},
   "outputs": [
    {
     "data": {
      "text/plain": [
       "array([[20, 20, 20, 20],\n",
       "       [20, 20, 20, 20],\n",
       "       [20, 20, 20, 20],\n",
       "       [20, 20, 20, 20],\n",
       "       [20, 20, 20, 20],\n",
       "       [20, 20, 20, 20],\n",
       "       [20, 20, 20, 20],\n",
       "       [20, 20, 20, 20],\n",
       "       [20, 20, 20, 20],\n",
       "       [20, 20, 20, 20],\n",
       "       [20, 20, 20, 20],\n",
       "       [20, 20, 20, 20]])"
      ]
     },
     "execution_count": 37,
     "metadata": {},
     "output_type": "execute_result"
    }
   ],
   "source": [
    "#10. Array of k Random Value\n",
    "#Creates an n-dimensional array of a random value.\n",
    "import numpy as np\n",
    "np.full((12,4),fill_value=20)"
   ]
  },
  {
   "cell_type": "code",
   "execution_count": 38,
   "id": "d664c706-592f-4147-976b-7ae302986950",
   "metadata": {},
   "outputs": [
    {
     "data": {
      "text/plain": [
       "array([[1, 0, 0, 0, 0, 0],\n",
       "       [0, 1, 0, 0, 0, 0],\n",
       "       [0, 0, 1, 0, 0, 0],\n",
       "       [0, 0, 0, 1, 0, 0],\n",
       "       [0, 0, 0, 0, 1, 0],\n",
       "       [0, 0, 0, 0, 0, 1]])"
      ]
     },
     "execution_count": 38,
     "metadata": {},
     "output_type": "execute_result"
    }
   ],
   "source": [
    "#11. Identity Matrix\n",
    "#Create an identity matrix with specified dimensions\n",
    "np.identity(6,dtype=int)"
   ]
  },
  {
   "cell_type": "code",
   "execution_count": 43,
   "id": "c66f4cbf-7a1d-46a6-abbe-9659eaf586ab",
   "metadata": {},
   "outputs": [
    {
     "name": "stdout",
     "output_type": "stream",
     "text": [
      "1\t2\t3\t4\t5\t6\t7\t8\t9\t10\t11\t12\t13\t14\t15\t\n",
      "2\t4\t6\t8\t10\t12\t14\t16\t18\t20\t22\t24\t26\t28\t30\t\n",
      "3\t6\t9\t12\t15\t18\t21\t24\t27\t30\t33\t36\t39\t42\t45\t\n",
      "4\t8\t12\t16\t20\t24\t28\t32\t36\t40\t44\t48\t52\t56\t60\t\n",
      "5\t10\t15\t20\t25\t30\t35\t40\t45\t50\t55\t60\t65\t70\t75\t\n",
      "6\t12\t18\t24\t30\t36\t42\t48\t54\t60\t66\t72\t78\t84\t90\t\n",
      "7\t14\t21\t28\t35\t42\t49\t56\t63\t70\t77\t84\t91\t98\t105\t\n",
      "8\t16\t24\t32\t40\t48\t56\t64\t72\t80\t88\t96\t104\t112\t120\t\n",
      "9\t18\t27\t36\t45\t54\t63\t72\t81\t90\t99\t108\t117\t126\t135\t\n"
     ]
    }
   ],
   "source": [
    "#Array Operations\n",
    "for i in range(1,10):\n",
    "    for j in range(1,16):\n",
    "        print(i*j,end='\\t')\n",
    "    print()"
   ]
  },
  {
   "cell_type": "code",
   "execution_count": 45,
   "id": "e56fb06a-9969-4104-8219-1c341018d4c6",
   "metadata": {},
   "outputs": [
    {
     "name": "stdout",
     "output_type": "stream",
     "text": [
      "1\t0\t0\t0\t0\t0\t0\t0\t1\t\n",
      "1\t0\t0\t0\t0\t0\t0\t0\t1\t\n",
      "1\t0\t0\t0\t0\t0\t0\t0\t1\t\n",
      "1\t0\t0\t0\t0\t0\t0\t0\t1\t\n",
      "1\t0\t0\t0\t0\t0\t0\t0\t1\t\n",
      "1\t0\t0\t0\t0\t0\t0\t0\t1\t\n",
      "1\t0\t0\t0\t0\t0\t0\t0\t1\t\n",
      "1\t0\t0\t0\t0\t0\t0\t0\t1\t\n",
      "1\t0\t0\t0\t0\t0\t0\t0\t1\t\n"
     ]
    }
   ],
   "source": [
    "for i in range(1,10):\n",
    "    for j in range(1,10):\n",
    "        if j==1 or j==9:\n",
    "            print('1',end='\\t')\n",
    "        else:\n",
    "            print('0',end='\\t')\n",
    "    print()"
   ]
  },
  {
   "cell_type": "code",
   "execution_count": 48,
   "id": "ccc59c25-5ffb-40dd-9bc6-dfaf604e2622",
   "metadata": {},
   "outputs": [
    {
     "data": {
      "text/plain": [
       "1"
      ]
     },
     "execution_count": 48,
     "metadata": {},
     "output_type": "execute_result"
    }
   ],
   "source": [
    "#12. Min\n",
    "arr=np.array([1,1,2,3,3,4,5,6,6,2])\n",
    "np.min(arr)"
   ]
  },
  {
   "cell_type": "code",
   "execution_count": 49,
   "id": "59a6c05e-c1fb-4a39-bddb-6a47dafdbb51",
   "metadata": {},
   "outputs": [
    {
     "data": {
      "text/plain": [
       "6"
      ]
     },
     "execution_count": 49,
     "metadata": {},
     "output_type": "execute_result"
    }
   ],
   "source": [
    "#13. Max\n",
    "arr=np.array([1,1,2,3,3,4,5,6,6,2])\n",
    "np.max(arr)"
   ]
  },
  {
   "cell_type": "code",
   "execution_count": 50,
   "id": "80a776e7-25ef-4c4a-ab38-e9a7af6052a3",
   "metadata": {},
   "outputs": [
    {
     "name": "stdout",
     "output_type": "stream",
     "text": [
      "[1 3 2 4 3 5 3 4 5 4 6 5 6 2 2 1 4 1 2 4 1 5 3 2 5 5 4]\n",
      "1 4\n",
      "3 4\n",
      "2 5\n",
      "4 6\n",
      "3 3\n",
      "5 6\n",
      "3 2\n",
      "4 5\n",
      "5 5\n",
      "4 4\n",
      "6 2\n",
      "5 4\n",
      "6 1\n",
      "2 4\n",
      "2 3\n",
      "1 3\n",
      "4 3\n",
      "1 2\n",
      "2 2\n",
      "4 2\n",
      "1 1\n",
      "5 3\n",
      "3 1\n",
      "2 1\n",
      "5 2\n",
      "5 1\n",
      "4 1\n"
     ]
    }
   ],
   "source": [
    "import numpy as np\n",
    "numlist=[1,3,2,4,3,5,3,4,5,4,6,5,6,2,2,1,4,1,2,4,1,5,3,2,5,5,4]\n",
    "numarr=np.array(numlist)\n",
    "print(numarr)\n",
    "for i in range(len(numarr)):\n",
    "    c=1\n",
    "    for j in range(i+1,len(numarr)):\n",
    "\n",
    "        if numarr[i]==numarr[j]:\n",
    "            c=c+1\n",
    "        else:\n",
    "            pass\n",
    "    print(numarr[i],c)"
   ]
  },
  {
   "cell_type": "code",
   "execution_count": 54,
   "id": "1cf9fe95-3be3-4148-b6e6-efce49e012ef",
   "metadata": {},
   "outputs": [
    {
     "name": "stdout",
     "output_type": "stream",
     "text": [
      "[1 3 2 4 3 5 3 4 5 4 6 5 6 2 2 1 4 1 2 4 1 5 3 2 5 5 4]\n"
     ]
    },
    {
     "name": "stdin",
     "output_type": "stream",
     "text": [
      "Enter a number: 4\n"
     ]
    },
    {
     "name": "stdout",
     "output_type": "stream",
     "text": [
      "6\n"
     ]
    },
    {
     "data": {
      "text/plain": [
       "(array([1, 2, 3, 4, 5, 6]), array([4, 5, 4, 6, 6, 2], dtype=int64))"
      ]
     },
     "execution_count": 54,
     "metadata": {},
     "output_type": "execute_result"
    }
   ],
   "source": [
    "import numpy as np\n",
    "numlist=[1,3,2,4,3,5,3,4,5,4,6,5,6,2,2,1,4,1,2,4,1,5,3,2,5,5,4]\n",
    "numarr=np.array(numlist)\n",
    "print(numarr)\n",
    "c=0\n",
    "x=int(input(\"Enter a number:\"))\n",
    "for y in numarr:\n",
    "    if x==y:\n",
    "        c=c+1\n",
    "    else:\n",
    "        pass\n",
    "   \n",
    "print(c)\n",
    "\n",
    "np.unique(numarr,return_counts=True)"
   ]
  },
  {
   "cell_type": "code",
   "execution_count": 55,
   "id": "1078faba-8f29-4c06-8424-779e534ee941",
   "metadata": {},
   "outputs": [
    {
     "data": {
      "text/plain": [
       "(array([1, 2, 3, 4, 5, 6]), array([2, 2, 2, 1, 1, 2], dtype=int64))"
      ]
     },
     "execution_count": 55,
     "metadata": {},
     "output_type": "execute_result"
    }
   ],
   "source": [
    "#14. Unique\n",
    "#Return an array with all the unique elements sorted\n",
    "np.unique(arr,return_counts=True)"
   ]
  },
  {
   "cell_type": "code",
   "execution_count": 56,
   "id": "56c7bf70-e6a4-4fd0-ac70-d18822862353",
   "metadata": {},
   "outputs": [
    {
     "data": {
      "text/plain": [
       "3"
      ]
     },
     "execution_count": 56,
     "metadata": {},
     "output_type": "execute_result"
    }
   ],
   "source": [
    "#15. Mean\n",
    "#It is used to get the mean of the array.\n",
    "np.mean(arr,dtype='int')"
   ]
  },
  {
   "cell_type": "code",
   "execution_count": 58,
   "id": "4790a24e-6ceb-472d-acaf-a79dd84e2785",
   "metadata": {},
   "outputs": [
    {
     "data": {
      "text/plain": [
       "3.5"
      ]
     },
     "execution_count": 58,
     "metadata": {},
     "output_type": "execute_result"
    }
   ],
   "source": [
    "#16. Median\n",
    "#Return the median value of the array.\n",
    "arr=np.array([[1,2,3],[5,8,4]])\n",
    "np.median(arr)"
   ]
  },
  {
   "cell_type": "code",
   "execution_count": 59,
   "id": "9263cfed-991c-43ae-aee9-91608be21ad6",
   "metadata": {},
   "outputs": [
    {
     "data": {
      "text/plain": [
       "array([0, 1, 1, 2, 2, 2, 4, 5, 6], dtype=int64)"
      ]
     },
     "execution_count": 59,
     "metadata": {},
     "output_type": "execute_result"
    }
   ],
   "source": [
    "#17. Digitize\n",
    "#Return the indices of the bins to which each value in the input array belongs.\n",
    "a=np.array([-0.9,0.5,0.9,1,1.2,1.4,3.6,4.7,5.3])\n",
    "bins=np.array([0,1,2,3,4,5])\n",
    "np.digitize(a,bins)"
   ]
  },
  {
   "cell_type": "code",
   "execution_count": 60,
   "id": "1ff02399-bbff-4583-abf0-83e7377d780b",
   "metadata": {},
   "outputs": [
    {
     "name": "stdout",
     "output_type": "stream",
     "text": [
      "[[11  4  5]\n",
      " [10 11 12]\n",
      " [ 6 12  5]\n",
      " [12  2  8]]\n"
     ]
    }
   ],
   "source": [
    "#18. Reshape\n",
    "#It is one of the most used functions of NumPy. It returns an array containing the same data with a new shape.\n",
    "A=np.random.randint(15,size=(4,3))\n",
    "print(A)"
   ]
  },
  {
   "cell_type": "code",
   "execution_count": 61,
   "id": "de019f08-223f-485f-be48-2a6aeea5e5f1",
   "metadata": {},
   "outputs": [
    {
     "data": {
      "text/plain": [
       "array([[11,  4,  5, 10],\n",
       "       [11, 12,  6, 12],\n",
       "       [ 5, 12,  2,  8]])"
      ]
     },
     "execution_count": 61,
     "metadata": {},
     "output_type": "execute_result"
    }
   ],
   "source": [
    "A.reshape(3,4)"
   ]
  },
  {
   "cell_type": "code",
   "execution_count": 62,
   "id": "82d1123f-0289-423f-9b18-028d56ed48ec",
   "metadata": {},
   "outputs": [
    {
     "data": {
      "text/plain": [
       "array([[11,  4,  5, 10, 11, 12],\n",
       "       [ 6, 12,  5, 12,  2,  8]])"
      ]
     },
     "execution_count": 62,
     "metadata": {},
     "output_type": "execute_result"
    }
   ],
   "source": [
    "A.reshape(2,6)"
   ]
  },
  {
   "cell_type": "code",
   "execution_count": 63,
   "id": "ddeebe03-d1b5-41c0-a3a5-ea836e192846",
   "metadata": {},
   "outputs": [
    {
     "data": {
      "text/plain": [
       "array([[11,  4],\n",
       "       [ 5, 10],\n",
       "       [11, 12],\n",
       "       [ 6, 12],\n",
       "       [ 5, 12],\n",
       "       [ 2,  8]])"
      ]
     },
     "execution_count": 63,
     "metadata": {},
     "output_type": "execute_result"
    }
   ],
   "source": [
    "A.reshape(6,2)"
   ]
  },
  {
   "cell_type": "code",
   "execution_count": 64,
   "id": "ddf9d32f-924d-420d-a330-063a250c3a6d",
   "metadata": {},
   "outputs": [
    {
     "data": {
      "text/plain": [
       "array([11,  4,  5, 10, 11, 12,  6, 12,  5, 12,  2,  8])"
      ]
     },
     "execution_count": 64,
     "metadata": {},
     "output_type": "execute_result"
    }
   ],
   "source": [
    "A.reshape(-1)"
   ]
  },
  {
   "cell_type": "code",
   "execution_count": 65,
   "id": "0bf76adc-7581-4671-845f-d234aaeeec47",
   "metadata": {},
   "outputs": [
    {
     "name": "stdout",
     "output_type": "stream",
     "text": [
      "[[ 8 14  1  8 11  4  9  4  1 13 13 11]]\n"
     ]
    }
   ],
   "source": [
    "#19. Expand Dimensions\n",
    "#It is used to expand the dimensions of an array. This method is useful for creating sample test data for testing a machine learning model.\n",
    "arr=np.array([8,14,1,8,11,4,9,4,1,13,13,11])\n",
    "z=np.expand_dims(arr,axis=0)\n",
    "print(z)"
   ]
  },
  {
   "cell_type": "code",
   "execution_count": 66,
   "id": "471c3bad-d775-4e02-bd73-3944dd4a10c0",
   "metadata": {},
   "outputs": [
    {
     "name": "stdout",
     "output_type": "stream",
     "text": [
      "[[ 8]\n",
      " [14]\n",
      " [ 1]\n",
      " [ 8]\n",
      " [11]\n",
      " [ 4]\n",
      " [ 9]\n",
      " [ 4]\n",
      " [ 1]\n",
      " [13]\n",
      " [13]\n",
      " [11]]\n"
     ]
    }
   ],
   "source": [
    "x=np.expand_dims(arr,axis=1)\n",
    "print(x)"
   ]
  },
  {
   "cell_type": "code",
   "execution_count": 67,
   "id": "e8d2d135-b3fb-47d8-9a20-9dcb7dc3d4d9",
   "metadata": {},
   "outputs": [
    {
     "data": {
      "text/plain": [
       "array([ 8, 14,  1,  8, 11,  4,  9,  4,  1, 13, 13, 11])"
      ]
     },
     "execution_count": 67,
     "metadata": {},
     "output_type": "execute_result"
    }
   ],
   "source": [
    "#20. Squeeze\n",
    "#Reduce the dimension of an array by removing single-dimensional entrie\n",
    "arr=np.array([[ 8,],[14,],[ 1,],[ 8],[11],[ 4],[ 9],[ 4],[ 1],[13],[13],[11]])\n",
    "np.squeeze(arr)"
   ]
  },
  {
   "cell_type": "code",
   "execution_count": 68,
   "id": "c42886d0-24fb-4c13-a538-782724c433a9",
   "metadata": {},
   "outputs": [
    {
     "data": {
      "text/plain": [
       "3"
      ]
     },
     "execution_count": 68,
     "metadata": {},
     "output_type": "execute_result"
    }
   ],
   "source": [
    "#21. Count Non-Zero\n",
    "#Count all the non-zero elements and return their count.\n",
    "a=np.array([0,0,1,1,1,0])\n",
    "np.count_nonzero(a)"
   ]
  },
  {
   "cell_type": "code",
   "execution_count": 69,
   "id": "3b075ec8-12d6-442f-a6db-35233061d417",
   "metadata": {},
   "outputs": [
    {
     "data": {
      "text/plain": [
       "array([[2],\n",
       "       [3],\n",
       "       [4]], dtype=int64)"
      ]
     },
     "execution_count": 69,
     "metadata": {},
     "output_type": "execute_result"
    }
   ],
   "source": [
    "#22. argwhere\n",
    "#Find and return all the indices of non-zero elements.\n",
    "a=np.array([0,0,1,1,1,0])\n",
    "np.argwhere(a)"
   ]
  },
  {
   "cell_type": "code",
   "execution_count": 71,
   "id": "70884b86-519c-4f20-bf38-8ca53700df57",
   "metadata": {},
   "outputs": [
    {
     "name": "stdout",
     "output_type": "stream",
     "text": [
      "4\n",
      "6\n"
     ]
    }
   ],
   "source": [
    "#23. argmax & argmin\n",
    "#argmax returns the index of the max element from the array. It can be used to get the index of high probability predicted labels in multiclass image classification problems.\n",
    "import numpy as np\n",
    "arr=np.array([[0.12,0.64,0.19,0.05,0.9,0.2,0.01]])\n",
    "m=np.argmax(arr)\n",
    "n=np.argmin(arr)\n",
    "print(m)\n",
    "print(n)"
   ]
  },
  {
   "cell_type": "code",
   "execution_count": 2,
   "id": "6d5fd15d-fb7d-4390-afae-4941bf46dfe3",
   "metadata": {},
   "outputs": [
    {
     "data": {
      "text/plain": [
       "array([-90,   3,   4,   5,   7,  11,  12,  23,  33,  44,  88])"
      ]
     },
     "execution_count": 2,
     "metadata": {},
     "output_type": "execute_result"
    }
   ],
   "source": [
    "#24. Sort\n",
    "#Sort the array and return.\n",
    "import numpy as np\n",
    "arr = np.array([12,3,11,7,4,5,-90,88,44,33,23])\n",
    "np.sort(arr)"
   ]
  },
  {
   "cell_type": "code",
   "execution_count": 3,
   "id": "d97bd622-fe5c-4a03-85e0-6495056ada4d",
   "metadata": {},
   "outputs": [
    {
     "data": {
      "text/plain": [
       "array([[1, 3, 4],\n",
       "       [2, 4, 3]])"
      ]
     },
     "execution_count": 3,
     "metadata": {},
     "output_type": "execute_result"
    }
   ],
   "source": [
    "#25. Abs\n",
    "#Return the absolute values of elements inside an array. It is useful when an array contains negative values.\n",
    "A = np.array([[1,-3,4],[-2,-4,3]])\n",
    "np.abs(A)"
   ]
  },
  {
   "cell_type": "code",
   "execution_count": 4,
   "id": "b0465f58-e1c2-4de3-adea-f8213e360476",
   "metadata": {},
   "outputs": [
    {
     "name": "stdout",
     "output_type": "stream",
     "text": [
      "[[11.20709612 10.71799408  4.78620628 11.08707066]\n",
      " [ 9.68451291 11.9031446   8.06959718 11.00830603]\n",
      " [ 8.72661574 10.65068271  5.16870885 10.30560342]]\n"
     ]
    }
   ],
   "source": [
    "#26. Round\n",
    "#Round the float values to a specified number of decimal points.\n",
    "a = np.random.uniform(12,size=(3,4))\n",
    "print(a)"
   ]
  },
  {
   "cell_type": "code",
   "execution_count": 5,
   "id": "8a76e872-996a-4c72-9fee-09a788627f3e",
   "metadata": {},
   "outputs": [
    {
     "data": {
      "text/plain": [
       "array([[11.21, 10.72,  4.79, 11.09],\n",
       "       [ 9.68, 11.9 ,  8.07, 11.01],\n",
       "       [ 8.73, 10.65,  5.17, 10.31]])"
      ]
     },
     "execution_count": 5,
     "metadata": {},
     "output_type": "execute_result"
    }
   ],
   "source": [
    "np.round(a,decimals=2)"
   ]
  },
  {
   "cell_type": "code",
   "execution_count": 6,
   "id": "412f30e7-3327-4b79-ae33-d299e2a816e4",
   "metadata": {},
   "outputs": [
    {
     "data": {
      "text/plain": [
       "array([[11.21, 10.72,  4.79, 11.09],\n",
       "       [ 9.68, 11.9 ,  8.07, 11.01],\n",
       "       [ 8.73, 10.65,  5.17, 10.31]])"
      ]
     },
     "execution_count": 6,
     "metadata": {},
     "output_type": "execute_result"
    }
   ],
   "source": [
    "np.round(a,decimals=2)"
   ]
  },
  {
   "cell_type": "code",
   "execution_count": 7,
   "id": "ac4a628f-ae0c-4734-9ddf-15742badde9b",
   "metadata": {},
   "outputs": [
    {
     "data": {
      "text/plain": [
       "array([0, 1, 0, 0, 5, 5, 5, 2, 3])"
      ]
     },
     "execution_count": 7,
     "metadata": {},
     "output_type": "execute_result"
    }
   ],
   "source": [
    "#27. Clip\n",
    "#It is used to keep the values of an array within a range.\n",
    "arr = np.array([0,1,-3,-4,5,6,7,2,3])\n",
    "arr.clip(0,5)"
   ]
  },
  {
   "cell_type": "code",
   "execution_count": 8,
   "id": "b4b1ccb8-30e1-4a64-b64f-a75f38d87a61",
   "metadata": {},
   "outputs": [
    {
     "data": {
      "text/plain": [
       "array([0, 1, 0, 0, 3, 3, 3, 2, 3])"
      ]
     },
     "execution_count": 8,
     "metadata": {},
     "output_type": "execute_result"
    }
   ],
   "source": [
    "arr.clip(0,3)"
   ]
  },
  {
   "cell_type": "code",
   "execution_count": 9,
   "id": "ec7fe065-7e1d-4d99-8855-5e15e741f8d0",
   "metadata": {},
   "outputs": [
    {
     "data": {
      "text/plain": [
       "array([3, 3, 3, 3, 5, 5, 5, 3, 3])"
      ]
     },
     "execution_count": 9,
     "metadata": {},
     "output_type": "execute_result"
    }
   ],
   "source": [
    "arr.clip(3,5)"
   ]
  },
  {
   "cell_type": "code",
   "execution_count": 10,
   "id": "58deaf1a-0f11-486a-ba3a-b0c50e7b6956",
   "metadata": {},
   "outputs": [
    {
     "name": "stdout",
     "output_type": "stream",
     "text": [
      "[[ 0  1  2]\n",
      " [ 3  4  5]\n",
      " [ 6  7  8]\n",
      " [ 9 10 11]]\n"
     ]
    }
   ],
   "source": [
    "#Replacing Values Inside Array\n",
    "#28. Where\n",
    "import numpy as np\n",
    "#Return elements from an array where a condition satisfies.\n",
    "a = np.arange(12).reshape(4,3)\n",
    "print(a)"
   ]
  },
  {
   "cell_type": "code",
   "execution_count": 11,
   "id": "1ec76790-66ed-4f3c-9d3e-f9cea09f71b2",
   "metadata": {},
   "outputs": [
    {
     "data": {
      "text/plain": [
       "array([0, 1, 2, 3, 4])"
      ]
     },
     "execution_count": 11,
     "metadata": {},
     "output_type": "execute_result"
    }
   ],
   "source": [
    "a[np.where(a<5)]"
   ]
  },
  {
   "cell_type": "code",
   "execution_count": 12,
   "id": "665d5879-8fc8-4872-a6ee-fae06889bef2",
   "metadata": {},
   "outputs": [
    {
     "data": {
      "text/plain": [
       "array([ 6,  7,  8,  9, 10, 11])"
      ]
     },
     "execution_count": 12,
     "metadata": {},
     "output_type": "execute_result"
    }
   ],
   "source": [
    "a[np.where(a>5)]"
   ]
  },
  {
   "cell_type": "code",
   "execution_count": 13,
   "id": "978d5836-dc70-4e43-9d4f-c00807c6b27a",
   "metadata": {},
   "outputs": [],
   "source": [
    "#It can also be used to replace elements inside the panda’s data frame.\n",
    "\n",
    "#np.where(data[feature].isnull(), 1, 0)\n",
    "\n",
    "#Replace Null Values with 1 and other as 0"
   ]
  },
  {
   "cell_type": "code",
   "execution_count": 14,
   "id": "959ec6d3-9ba1-46b3-ac31-bc1442aab38b",
   "metadata": {},
   "outputs": [
    {
     "data": {
      "text/plain": [
       "array([1, 2, 3, 4, 5, 6])"
      ]
     },
     "execution_count": 14,
     "metadata": {},
     "output_type": "execute_result"
    }
   ],
   "source": [
    "#29. Put\n",
    "#Replaces specified elements of an array with given values.\n",
    "arr = np.array([1,2,3,4,5,6])\n",
    "arr"
   ]
  },
  {
   "cell_type": "code",
   "execution_count": 15,
   "id": "ea38a507-9333-43b8-9f2c-99e23c142ead",
   "metadata": {},
   "outputs": [
    {
     "data": {
      "text/plain": [
       "array([ 1, 60, 70,  4,  5,  6])"
      ]
     },
     "execution_count": 15,
     "metadata": {},
     "output_type": "execute_result"
    }
   ],
   "source": [
    "np.put(arr,[1,2],[60,70])\n",
    "arr"
   ]
  },
  {
   "cell_type": "code",
   "execution_count": 16,
   "id": "e63e56b2-d582-4da2-947f-4c42576809f9",
   "metadata": {},
   "outputs": [],
   "source": [
    "#30. Copyto\n",
    "#Copy the content of one array into another.\n",
    "#dst: array into which values are copied.\n",
    "#src: array from which values are copied."
   ]
  },
  {
   "cell_type": "code",
   "execution_count": 17,
   "id": "931d054e-5713-404b-99ec-1e4b2b671aa4",
   "metadata": {},
   "outputs": [
    {
     "name": "stdout",
     "output_type": "stream",
     "text": [
      "Before arr1 [0 0 0]\n",
      "Before arr2 [4 5 6]\n",
      "After arr1 [4 5 6]\n",
      "After arr2 [4 5 6]\n"
     ]
    }
   ],
   "source": [
    "arr1 = np.array([0,0,0])\n",
    "arr2 = np.array([4,5,6])\n",
    "print(\"Before arr1\",arr1)\n",
    "print(\"Before arr2\",arr2)\n",
    "np.copyto(arr1,arr2)\n",
    "print(\"After arr1\",arr1)\n",
    "print(\"After arr2\",arr2)"
   ]
  },
  {
   "cell_type": "code",
   "execution_count": 18,
   "id": "2866022f-b294-4302-972d-ab78e31fbea4",
   "metadata": {},
   "outputs": [
    {
     "data": {
      "text/plain": [
       "array([1, 3, 4, 5])"
      ]
     },
     "execution_count": 18,
     "metadata": {},
     "output_type": "execute_result"
    }
   ],
   "source": [
    "#Set Operations\n",
    "#31. Retrieve Common Elements\n",
    "#np.intersect1d function returns all the unique values from both arrays in a sorted manner.\n",
    "ar1 = np.array([1,2,3,4,5,6])\n",
    "ar2 = np.array([3,4,5,8,9,1])\n",
    "np.intersect1d(ar1,ar2)"
   ]
  },
  {
   "cell_type": "code",
   "execution_count": 19,
   "id": "14c516b3-44bd-4b27-8948-ee315c2803a0",
   "metadata": {},
   "outputs": [
    {
     "data": {
      "text/plain": [
       "(array([1, 3, 4, 5]),\n",
       " array([0, 2, 3, 4], dtype=int64),\n",
       " array([5, 0, 1, 2], dtype=int64))"
      ]
     },
     "execution_count": 19,
     "metadata": {},
     "output_type": "execute_result"
    }
   ],
   "source": [
    "np.intersect1d(ar1,ar2,return_indices=True)"
   ]
  },
  {
   "cell_type": "code",
   "execution_count": 20,
   "id": "19f168ca-c8b8-49b8-88ef-2a7eaebb2f51",
   "metadata": {},
   "outputs": [
    {
     "data": {
      "text/plain": [
       "array([1, 3, 4])"
      ]
     },
     "execution_count": 20,
     "metadata": {},
     "output_type": "execute_result"
    }
   ],
   "source": [
    "#32. Difference\n",
    "#np.setdiff1d function returns all the unique elements from array 1 that are not present in arr2.\n",
    "a = np.array([1, 7, 3, 2, 4, 1])\n",
    "b = np.array([9, 2, 5, 6, 7, 8])\n",
    "np.setdiff1d(a, b)"
   ]
  },
  {
   "cell_type": "code",
   "execution_count": 21,
   "id": "0a9b2e5d-7444-470e-9edc-2e82c804b39e",
   "metadata": {},
   "outputs": [
    {
     "data": {
      "text/plain": [
       "array([ 2,  3,  6,  9, 36])"
      ]
     },
     "execution_count": 21,
     "metadata": {},
     "output_type": "execute_result"
    }
   ],
   "source": [
    "#33. Extracts Unique Elements From Both Arrays\n",
    "#setxor1d function will return all the unique values from both arrays in sorted order.\n",
    "a = np.array([1, 2, 3, 4, 6])\n",
    "b = np.array([1, 4, 9, 4, 36])\n",
    "np.setxor1d(a,b)"
   ]
  },
  {
   "cell_type": "code",
   "execution_count": 22,
   "id": "d28eab96-d18a-4454-8e32-d82139b1aef3",
   "metadata": {},
   "outputs": [
    {
     "data": {
      "text/plain": [
       "array([ 1,  2,  3,  4,  5, 36])"
      ]
     },
     "execution_count": 22,
     "metadata": {},
     "output_type": "execute_result"
    }
   ],
   "source": [
    "#34. Union\n",
    "#union1d function will combine both arrays into one.\n",
    "a = np.array([1, 2, 3, 4, 5])\n",
    "b = np.array([1, 3, 5, 4, 36])\n",
    "np.union1d(a,b)"
   ]
  },
  {
   "cell_type": "code",
   "execution_count": 23,
   "id": "f5616ae1-e19a-4a3e-aae7-be83d779ea5f",
   "metadata": {},
   "outputs": [
    {
     "data": {
      "text/plain": [
       "[array([[3, 4],\n",
       "        [6, 7]]),\n",
       " array([[5, 2],\n",
       "        [2, 6]])]"
      ]
     },
     "execution_count": 23,
     "metadata": {},
     "output_type": "execute_result"
    }
   ],
   "source": [
    "#Splitting\n",
    "#35. Horizontal Split\n",
    "#hsplit function will split the data horizontally into n equal parts.\n",
    "A = np.array([[3,4,5,2],[6,7,2,6]])\n",
    "np.hsplit(A,2)    ## splits the data into two equal parts"
   ]
  },
  {
   "cell_type": "code",
   "execution_count": 24,
   "id": "406e09a2-d872-463e-87f2-cc31f0098c17",
   "metadata": {},
   "outputs": [
    {
     "data": {
      "text/plain": [
       "[array([[3],\n",
       "        [6]]),\n",
       " array([[4],\n",
       "        [7]]),\n",
       " array([[5],\n",
       "        [2]]),\n",
       " array([[2],\n",
       "        [6]])]"
      ]
     },
     "execution_count": 24,
     "metadata": {},
     "output_type": "execute_result"
    }
   ],
   "source": [
    "np.hsplit(A,4)    ## splits the data into four equal parts"
   ]
  },
  {
   "cell_type": "code",
   "execution_count": 26,
   "id": "d28e9130-c7b8-4219-97ff-c5e51a79b46e",
   "metadata": {},
   "outputs": [
    {
     "name": "stdout",
     "output_type": "stream",
     "text": [
      "[6 7 2 6] 2\n"
     ]
    }
   ],
   "source": [
    "#36. Vertical Split\n",
    "#vsplit will split the data vertically into n equal parts.\n",
    "A = np.array([[3,4,5,2],[6,7,2,6]])\n",
    "np.vsplit(A,2)\n",
    "\n",
    "print(A[1],A.ndim)"
   ]
  },
  {
   "cell_type": "code",
   "execution_count": 27,
   "id": "04010f0b-b545-4477-b56e-71ffeb0f6ba7",
   "metadata": {},
   "outputs": [
    {
     "data": {
      "text/plain": [
       "array([ 1,  2,  3,  4,  5,  1,  4,  9, 16, 25])"
      ]
     },
     "execution_count": 27,
     "metadata": {},
     "output_type": "execute_result"
    }
   ],
   "source": [
    "#Stacking\n",
    "#37. Horizontal Stacking\n",
    "#hstack will stack appends one array at the end of another.\n",
    "a = np.array([1,2,3,4,5])\n",
    "b = np.array([1,4,9,16,25])\n",
    "np.hstack((a,b))"
   ]
  },
  {
   "cell_type": "code",
   "execution_count": null,
   "id": "8d33bbe5-395c-4f22-8f51-51fde9f9ffac",
   "metadata": {},
   "outputs": [],
   "source": [
    "array = np.array([1, 5, 2, 8, 3])\n",
    "max_value = custom_max(array)\n",
    "print(\"Maximum value:\", max_value)"
   ]
  }
 ],
 "metadata": {
  "kernelspec": {
   "display_name": "Python 3 (ipykernel)",
   "language": "python",
   "name": "python3"
  },
  "language_info": {
   "codemirror_mode": {
    "name": "ipython",
    "version": 3
   },
   "file_extension": ".py",
   "mimetype": "text/x-python",
   "name": "python",
   "nbconvert_exporter": "python",
   "pygments_lexer": "ipython3",
   "version": "3.11.7"
  }
 },
 "nbformat": 4,
 "nbformat_minor": 5
}
